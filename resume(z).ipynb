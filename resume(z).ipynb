{
  "nbformat": 4,
  "nbformat_minor": 0,
  "metadata": {
    "colab": {
      "provenance": [],
      "authorship_tag": "ABX9TyMW5kDJP+nrlDI2Ge0M/QD/",
      "include_colab_link": true
    },
    "kernelspec": {
      "name": "python3",
      "display_name": "Python 3"
    },
    "language_info": {
      "name": "python"
    }
  },
  "cells": [
    {
      "cell_type": "markdown",
      "metadata": {
        "id": "view-in-github",
        "colab_type": "text"
      },
      "source": [
        "<a href=\"https://colab.research.google.com/github/VISHAL-1-3/Resume/blob/main/resume(z).ipynb\" target=\"_parent\"><img src=\"https://colab.research.google.com/assets/colab-badge.svg\" alt=\"Open In Colab\"/></a>"
      ]
    },
    {
      "cell_type": "code",
      "source": [
        "import re\n",
        "import PyPDF2\n",
        "from sklearn.feature_extraction.text import TfidfVectorizer\n",
        "from sklearn.metrics.pairwise import cosine_similarity\n",
        "import numpy as np\n",
        "\n",
        "# --- Skill databases by domain and category ---\n",
        "DOMAIN_SKILLS = {\n",
        "    'technology': {\n",
        "        'technical': ['python', 'java', 'c++', 'javascript', 'sql', 'tensorflow', 'pytorch', 'machine learning', 'scikit-learn'],\n",
        "        'soft': ['communication', 'teamwork', 'problem solving', 'leadership'],\n",
        "        'domain': []\n",
        "    },\n",
        "    'teaching': {\n",
        "        'technical': [],\n",
        "        'soft': ['communication', 'leadership', 'teamwork', 'patience', 'empathy'],\n",
        "        'domain': ['lesson planning', 'curriculum development', 'classroom management', 'student assessment']\n",
        "    }\n",
        "}\n",
        "\n",
        "# --- Extract text from resume PDF ---\n",
        "def extract_text_from_pdf(file_path):\n",
        "    text = \"\"\n",
        "    with open(file_path, \"rb\") as f:\n",
        "        pdf = PyPDF2.PdfReader(f)\n",
        "        for page in pdf.pages:\n",
        "            page_text = page.extract_text()\n",
        "            if page_text:\n",
        "                text += page_text + \" \"\n",
        "    return text\n",
        "\n",
        "# --- Extract skills present in text ---\n",
        "def extract_skills(text, skill_list):\n",
        "    text_lower = text.lower()\n",
        "    found = []\n",
        "    for skill in skill_list:\n",
        "        pattern = r'\\b' + re.escape(skill) + r'\\b'\n",
        "        if re.search(pattern, text_lower, flags=re.IGNORECASE):\n",
        "            found.append(skill)\n",
        "    return found\n",
        "\n",
        "# --- Detect job domain from job description text ---\n",
        "def detect_job_domain(text):\n",
        "    text = text.lower()\n",
        "    if any(word in text for word in ['software', 'developer', 'python', 'machine learning']):\n",
        "        return 'technology'\n",
        "    elif any(word in text for word in ['lesson', 'curriculum', 'student', 'classroom']):\n",
        "        return 'teaching'\n",
        "    else:\n",
        "        return 'technology'  # default\n",
        "\n",
        "# --- Partial cosine similarity skill match ---\n",
        "def partial_skill_match_score(resume_skills, job_skills):\n",
        "    if not resume_skills or not job_skills:\n",
        "        return 0.0\n",
        "    all_skills = resume_skills + job_skills\n",
        "    vectorizer = TfidfVectorizer().fit(all_skills)\n",
        "    resume_vecs = vectorizer.transform(resume_skills)\n",
        "    job_vecs = vectorizer.transform(job_skills)\n",
        "    sim_matrix = cosine_similarity(resume_vecs, job_vecs)\n",
        "    max_sim_per_resume_skill = sim_matrix.max(axis=1)\n",
        "    return np.mean(max_sim_per_resume_skill) * 100\n",
        "\n",
        "# --- Weighted ATS score calculation ---\n",
        "def calculate_weighted_ats_score(resume_skills_dict, job_skills_dict, domain):\n",
        "    domain_weights = {\n",
        "        'technology': {'technical': 0.7, 'soft': 0.15, 'domain': 0.15},\n",
        "        'teaching': {'technical': 0.1, 'soft': 0.5, 'domain': 0.4},\n",
        "    }\n",
        "    weights = domain_weights.get(domain, {'technical': 0.5, 'soft': 0.3, 'domain': 0.2})\n",
        "\n",
        "    technical_score = partial_skill_match_score(resume_skills_dict.get('technical', []),\n",
        "                                                job_skills_dict.get('technical', []))\n",
        "    soft_score = partial_skill_match_score(resume_skills_dict.get('soft', []),\n",
        "                                           job_skills_dict.get('soft', []))\n",
        "    domain_score = partial_skill_match_score(resume_skills_dict.get('domain', []),\n",
        "                                             job_skills_dict.get('domain', []))\n",
        "\n",
        "    overall_score = (technical_score * weights['technical'] +\n",
        "                     soft_score * weights['soft'] +\n",
        "                     domain_score * weights['domain'])\n",
        "\n",
        "    return round(overall_score, 2)\n",
        "\n",
        "# --- Main Execution ---\n",
        "\n",
        "# Replace with your uploaded resume PDF file path\n",
        "resume_pdf_path = '/content/Vishal_Gupta_22126061.pdf'\n",
        "resume_text = extract_text_from_pdf(resume_pdf_path)\n",
        "\n",
        "# Take job description as text input (paste directly)\n",
        "job_text = input(\"Paste job description text here:\\n\")\n",
        "\n",
        "# Detect domain\n",
        "domain = detect_job_domain(job_text)\n",
        "print(f\"Detected domain: {domain}\")\n",
        "\n",
        "# Extract skills from resume and job description\n",
        "resume_skills = {\n",
        "    'technical': extract_skills(resume_text, DOMAIN_SKILLS[domain]['technical']),\n",
        "    'soft': extract_skills(resume_text, DOMAIN_SKILLS[domain]['soft']),\n",
        "    'domain': extract_skills(resume_text, DOMAIN_SKILLS[domain]['domain'])\n",
        "}\n",
        "\n",
        "job_skills = {\n",
        "    'technical': extract_skills(job_text, DOMAIN_SKILLS[domain]['technical']),\n",
        "    'soft': extract_skills(job_text, DOMAIN_SKILLS[domain]['soft']),\n",
        "    'domain': extract_skills(job_text, DOMAIN_SKILLS[domain]['domain'])\n",
        "}\n",
        "\n",
        "print(\"Resume Skills:\", resume_skills)\n",
        "print(\"Job Skills:\", job_skills)\n",
        "\n",
        "# Calculate ATS score\n",
        "ats_score = calculate_weighted_ats_score(resume_skills, job_skills, domain)\n",
        "print(f\"Weighted ATS similarity score: {ats_score}%\")\n"
      ],
      "metadata": {
        "colab": {
          "base_uri": "https://localhost:8080/"
        },
        "id": "m3T6mL4x5UGr",
        "outputId": "ead5e833-1ab1-4bab-b6f6-335c0327372f"
      },
      "execution_count": 29,
      "outputs": [
        {
          "output_type": "stream",
          "name": "stdout",
          "text": [
            "Paste job description text here:\n",
            "At [Company X], we’re proud to stand at the forefront of the Big Data revolution. Using the latest analytics tools and processes, we’re able to maximize our offerings and deliver unparalleled service and support. To help carry us even further, we’re searching for an experienced data analyst to join our team. The ideal candidate will be highly skilled in all aspects of data analytics, including mining, generation, and visualization. Additionally, this person should be committed to transforming data into readable, goal-oriented reports that drive innovation and growth.  Objectives of this role Develop, implement, and maintain leading-edge analytics systems, taking complicated problems and building simple frameworks Identify trends and opportunities for growth through analysis of complex datasets Evaluate organizational methods and provide source-to-target mappings and information-model specification documents for datasets Create best-practice reports based on data mining, analysis, and visualization Evaluate internal systems for efficiency, problems, and inaccuracies, and develop and maintain protocols for handling, processing, and cleaning data Work directly with managers and users to gather requirements, provide status updates, and build relationships Responsibilities Work closely with project managers to understand and maintain focus on their analytics needs, including critical metrics and KPIs, and deliver actionable insights to relevant decision-makers Proactively analyze data to answer key questions for stakeholders or yourself, with an eye on what drives business performance, and investigate and communicate which areas need improvement in efficiency and productivity Create and maintain rich interactive visualizations through data interpretation and analysis, with reporting components from multiple data sources Define and implement data acquisition and integration logic, selecting an appropriate combination of methods and tools within the defined technology stack to ensure optimal scalability and performance of the solution Develop and maintain databases by acquiring data from primary and secondary sources, and build scripts that will make our data evaluation process more flexible or scalable across datasets Required skills and qualifications Three or more years of experience mining data as a data analyst Proven analytics skills, including mining, evaluation, and visualization Technical writing experience in relevant areas, including queries, reports, and presentations Strong SQL or Excel skills, with aptitude for learning other analytics tools Preferred skills and qualifications Bachelor’s degree (or equivalent) in mathematics, computer science, economics, or statistics Experience with database and model design and segmentation techniques Strong programming experience with frameworks, including XML, JavaScript, and ETL Practical experience in statistical analysis through the use of statistical packages, including Excel, SPSS, and SAS Proven success in a collaborative, team-oriented environment\n",
            "Detected domain: technology\n",
            "Resume Skills: {'technical': ['python', 'sql', 'scikit-learn'], 'soft': ['communication'], 'domain': []}\n",
            "Job Skills: {'technical': ['javascript', 'sql'], 'soft': [], 'domain': []}\n",
            "Weighted ATS similarity score: 23.33%\n"
          ]
        }
      ]
    },
    {
      "cell_type": "code",
      "source": [],
      "metadata": {
        "id": "-as1N7zG6FCH"
      },
      "execution_count": null,
      "outputs": []
    }
  ]
}